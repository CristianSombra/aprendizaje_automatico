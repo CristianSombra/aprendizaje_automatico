{
 "cells": [
  {
   "cell_type": "code",
   "execution_count": 7,
   "id": "4127b95c-1628-4757-bff1-f87b6b0cae8c",
   "metadata": {},
   "outputs": [
    {
     "name": "stdout",
     "output_type": "stream",
     "text": [
      "shape: (16025, 913)\n",
      "CSV path: D:\\ALMACENAMIENTO\\VARIOS\\FACULTAD\\aprendizaje_automatico\\Examen_parcial_proyecto\\Notebooks\\1. Transformación_dataset\\ed2022.csv\n",
      "CSV MB: 30.73\n",
      "SHA-256: b11dc81ecbb1b83dcdff32c476c2911f9eaab6e98e20ecbdeb4c1cd40b95c436\n"
     ]
    }
   ],
   "source": [
    "from pathlib import Path\n",
    "import pandas as pd, pyreadstat, os, hashlib\n",
    "\n",
    "# Ruta al SAS\n",
    "SRC = Path(r\"D:\\ALMACENAMIENTO\\VARIOS\\FACULTAD\\aprendizaje_automatico\\Examen_parcial_proyecto\\Notebooks\\1. Transformación_dataset\\ed2022_sas.sas7bdat\")\n",
    "# Salida CSV (mismo directorio)\n",
    "DST = SRC.with_name(\"ed2022.csv\")\n",
    "\n",
    "# Leer SAS y exportar a CSV (sin índice, UTF-8)\n",
    "df, meta = pyreadstat.read_sas7bdat(str(SRC))\n",
    "df.to_csv(DST, index=False, encoding=\"utf-8\")\n",
    "\n",
    "# Reporte breve\n",
    "print(\"shape:\", df.shape)\n",
    "\n",
    "def sha256(p: Path):\n",
    "    h = hashlib.sha256()\n",
    "    with open(p, \"rb\") as f:\n",
    "        for chunk in iter(lambda: f.read(1<<20), b\"\"):\n",
    "            h.update(chunk)\n",
    "    return h.hexdigest()\n",
    "\n",
    "print(\"CSV path:\", DST)\n",
    "print(\"CSV MB:\", round(os.path.getsize(DST)/1024**2, 2))\n",
    "print(\"SHA-256:\", sha256(DST))\n",
    "\n"
   ]
  },
  {
   "cell_type": "markdown",
   "id": "08416b46-2a76-4183-b303-520e9d1164e0",
   "metadata": {},
   "source": [
    "## Carga y conversión a CSV\n",
    "\n",
    "### Procesos que se realizan:\n",
    "- Lee el archivo SAS (ed2022_sas.sas7bdat) a un DataFrame con pyreadstat.\n",
    "- Exporta una única copia en CSV (ed2022.csv) en UTF-8 y sin índice.\n",
    "- Imprime la forma del dataset (filas, columnas) para verificar la conversión.\n",
    "- Verificación de integridad (solo CSV)\n",
    "- Calcula el hash SHA-256 del archivo ed2022.csv para trazabilidad y control de integridad.\n",
    "- Mide el tamaño en MB del CSV generado.\n",
    "- Imprime ambos resultados (tamaño + SHA-256) como evidencia de conversión correcta y para versionado en el repositorio."
   ]
  },
  {
   "cell_type": "code",
   "execution_count": null,
   "id": "23ca6826-1e9e-4ac9-a4fb-443bc880c0ea",
   "metadata": {},
   "outputs": [],
   "source": []
  }
 ],
 "metadata": {
  "kernelspec": {
   "display_name": "Python 3 (ipykernel)",
   "language": "python",
   "name": "python3"
  },
  "language_info": {
   "codemirror_mode": {
    "name": "ipython",
    "version": 3
   },
   "file_extension": ".py",
   "mimetype": "text/x-python",
   "name": "python",
   "nbconvert_exporter": "python",
   "pygments_lexer": "ipython3",
   "version": "3.13.5"
  }
 },
 "nbformat": 4,
 "nbformat_minor": 5
}

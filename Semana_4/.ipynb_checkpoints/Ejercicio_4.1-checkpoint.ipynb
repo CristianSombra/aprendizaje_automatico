{
 "cells": [
  {
   "cell_type": "code",
   "execution_count": 7,
   "id": "ffb756dc-1849-4b5e-a674-c734523efc1c",
   "metadata": {},
   "outputs": [
    {
     "name": "stdout",
     "output_type": "stream",
     "text": [
      "🔎 Primeras filas del dataset:\n"
     ]
    },
    {
     "data": {
      "text/html": [
       "<div>\n",
       "<style scoped>\n",
       "    .dataframe tbody tr th:only-of-type {\n",
       "        vertical-align: middle;\n",
       "    }\n",
       "\n",
       "    .dataframe tbody tr th {\n",
       "        vertical-align: top;\n",
       "    }\n",
       "\n",
       "    .dataframe thead th {\n",
       "        text-align: right;\n",
       "    }\n",
       "</style>\n",
       "<table border=\"1\" class=\"dataframe\">\n",
       "  <thead>\n",
       "    <tr style=\"text-align: right;\">\n",
       "      <th></th>\n",
       "      <th>duracion</th>\n",
       "      <th>paginas</th>\n",
       "      <th>acciones</th>\n",
       "      <th>valor</th>\n",
       "      <th>clase</th>\n",
       "    </tr>\n",
       "  </thead>\n",
       "  <tbody>\n",
       "    <tr>\n",
       "      <th>0</th>\n",
       "      <td>7.0</td>\n",
       "      <td>2</td>\n",
       "      <td>4</td>\n",
       "      <td>8</td>\n",
       "      <td>2</td>\n",
       "    </tr>\n",
       "    <tr>\n",
       "      <th>1</th>\n",
       "      <td>21.0</td>\n",
       "      <td>2</td>\n",
       "      <td>6</td>\n",
       "      <td>6</td>\n",
       "      <td>2</td>\n",
       "    </tr>\n",
       "    <tr>\n",
       "      <th>2</th>\n",
       "      <td>57.0</td>\n",
       "      <td>2</td>\n",
       "      <td>4</td>\n",
       "      <td>4</td>\n",
       "      <td>2</td>\n",
       "    </tr>\n",
       "    <tr>\n",
       "      <th>3</th>\n",
       "      <td>101.0</td>\n",
       "      <td>3</td>\n",
       "      <td>6</td>\n",
       "      <td>12</td>\n",
       "      <td>2</td>\n",
       "    </tr>\n",
       "    <tr>\n",
       "      <th>4</th>\n",
       "      <td>109.0</td>\n",
       "      <td>2</td>\n",
       "      <td>6</td>\n",
       "      <td>12</td>\n",
       "      <td>2</td>\n",
       "    </tr>\n",
       "  </tbody>\n",
       "</table>\n",
       "</div>"
      ],
      "text/plain": [
       "   duracion  paginas  acciones  valor  clase\n",
       "0       7.0        2         4      8      2\n",
       "1      21.0        2         6      6      2\n",
       "2      57.0        2         4      4      2\n",
       "3     101.0        3         6     12      2\n",
       "4     109.0        2         6     12      2"
      ]
     },
     "metadata": {},
     "output_type": "display_data"
    },
    {
     "name": "stdout",
     "output_type": "stream",
     "text": [
      "\n",
      "📐 Dimensiones: (170, 5)\n",
      "\n",
      "📝 Tipos de datos:\n",
      "duracion    float64\n",
      "paginas       int64\n",
      "acciones      int64\n",
      "valor         int64\n",
      "clase         int64\n",
      "dtype: object\n",
      "\n",
      "❓ Valores faltantes por columna:\n",
      "duracion    0\n",
      "paginas     0\n",
      "acciones    0\n",
      "valor       0\n",
      "clase       0\n",
      "dtype: int64\n",
      "\n",
      "📊 Distribución de clases (0=Windows, 1=Macintosh, 2=Linux):\n",
      "clase\n",
      "0    86\n",
      "2    44\n",
      "1    40\n",
      "Name: count, dtype: int64\n"
     ]
    }
   ],
   "source": [
    "# Cargar dataset y exploración inicial\n",
    "import pandas as pd\n",
    "import seaborn as sns\n",
    "import matplotlib.pyplot as plt\n",
    "\n",
    "# Cargo el archivo CSV\n",
    "df = pd.read_csv(\"usuarios_win_mac_lin.csv\")\n",
    "\n",
    "# Reviso las primeras filas para ver cómo luce\n",
    "print(\"🔎 Primeras filas del dataset:\")\n",
    "display(df.head())\n",
    "\n",
    "# Información general del dataset\n",
    "print(\"\\n📐 Dimensiones:\", df.shape)\n",
    "print(\"\\n📝 Tipos de datos:\")\n",
    "print(df.dtypes)\n",
    "\n",
    "# Verifico valores faltantes\n",
    "print(\"\\n❓ Valores faltantes por columna:\")\n",
    "print(df.isna().sum())\n",
    "\n",
    "# Distribución de la variable objetivo (Sistema Operativo)\n",
    "print(\"\\n📊 Distribución de clases (0=Windows, 1=Macintosh, 2=Linux):\")\n",
    "print(df[\"clase\"].value_counts())\n"
   ]
  },
  {
   "cell_type": "code",
   "execution_count": 8,
   "id": "6867795f-c512-4b8c-a0ac-b7d19de68f9c",
   "metadata": {},
   "outputs": [
    {
     "name": "stdout",
     "output_type": "stream",
     "text": [
      "📊 Tamaños de los conjuntos:\n",
      "Entrenamiento: (119, 4)\n",
      "Prueba: (51, 4)\n"
     ]
    }
   ],
   "source": [
    "# Separación de variables y división en train/test\n",
    "from sklearn.model_selection import train_test_split\n",
    "\n",
    "# Defino las features (X) y la variable objetivo (y)\n",
    "X = df.drop(\"clase\", axis=1)   # todas menos la columna 'clase'\n",
    "y = df[\"clase\"]                # la variable objetivo (0=Windows, 1=Mac, 2=Linux)\n",
    "\n",
    "# Divido el dataset en entrenamiento (70%) y prueba (30%)\n",
    "X_train, X_test, y_train, y_test = train_test_split(\n",
    "    X, y, test_size=0.3, random_state=42, stratify=y\n",
    ")\n",
    "\n",
    "print(\"📊 Tamaños de los conjuntos:\")\n",
    "print(\"Entrenamiento:\", X_train.shape)\n",
    "print(\"Prueba:\", X_test.shape)\n"
   ]
  },
  {
   "cell_type": "code",
   "execution_count": 10,
   "id": "f58fc609-3dff-4118-a23a-3344d686e859",
   "metadata": {},
   "outputs": [
    {
     "name": "stdout",
     "output_type": "stream",
     "text": [
      "✅ Modelo entrenado correctamente\n"
     ]
    }
   ],
   "source": [
    "# Entrenamiento con Regresión Logística\n",
    "from sklearn.linear_model import LogisticRegression\n",
    "\n",
    "# Creo el modelo de regresión logística\n",
    "logreg = LogisticRegression(solver=\"lbfgs\", max_iter=1000)\n",
    "\n",
    "# Entreno el modelo con los datos de entrenamiento\n",
    "logreg.fit(X_train, y_train)\n",
    "\n",
    "print(\"✅ Modelo entrenado correctamente\")\n"
   ]
  },
  {
   "cell_type": "code",
   "execution_count": 11,
   "id": "f7b6d633-1f2a-45b5-9f74-d5af730b73a6",
   "metadata": {},
   "outputs": [
    {
     "name": "stdout",
     "output_type": "stream",
     "text": [
      "Accuracy en test: 0.725\n",
      "\n",
      "Reporte de clasificación:\n",
      "              precision    recall  f1-score   support\n",
      "\n",
      "     Windows       0.75      0.69      0.72        26\n",
      "   Macintosh       0.67      0.50      0.57        12\n",
      "       Linux       0.72      1.00      0.84        13\n",
      "\n",
      "    accuracy                           0.73        51\n",
      "   macro avg       0.71      0.73      0.71        51\n",
      "weighted avg       0.72      0.73      0.72        51\n",
      "\n"
     ]
    }
   ],
   "source": [
    "from sklearn.metrics import accuracy_score, classification_report, confusion_matrix\n",
    "\n",
    "# Predicciones sobre el set de prueba\n",
    "y_pred = logreg.predict(X_test)\n",
    "\n",
    "# Métricas\n",
    "acc = accuracy_score(y_test, y_pred)\n",
    "print(f\"Accuracy en test: {acc:.3f}\\n\")\n",
    "\n",
    "print(\"Reporte de clasificación:\")\n",
    "print(classification_report(y_test, y_pred, target_names=[\"Windows\",\"Macintosh\",\"Linux\"]))\n"
   ]
  },
  {
   "cell_type": "code",
   "execution_count": 12,
   "id": "2d7f7631-e8d7-4e62-8f22-7c6a4f7c1066",
   "metadata": {},
   "outputs": [
    {
     "data": {
      "image/png": "[encoded data removed]",
      "text/plain": [
       "<Figure size 500x400 with 2 Axes>"
      ]
     },
     "metadata": {},
     "output_type": "display_data"
    }
   ],
   "source": [
    "import seaborn as sns\n",
    "import matplotlib.pyplot as plt\n",
    "\n",
    "cm = confusion_matrix(y_test, y_pred)\n",
    "plt.figure(figsize=(5,4))\n",
    "sns.heatmap(cm, annot=True, fmt=\"d\", cmap=\"Blues\",\n",
    "            xticklabels=[\"Windows\",\"Mac\",\"Linux\"],\n",
    "            yticklabels=[\"Windows\",\"Mac\",\"Linux\"])\n",
    "plt.xlabel(\"Predicción\"); plt.ylabel(\"Real\")\n",
    "plt.title(\"Matriz de confusión - Regresión Logística\")\n",
    "plt.tight_layout(); plt.show()\n"
   ]
  },
  {
   "cell_type": "markdown",
   "id": "0eb9ae96-6e85-4ed4-95d7-6201d2774737",
   "metadata": {},
   "source": [
    "### 📌 Conclusión\n",
    "\n",
    "En este ejercicio se aplicó **Regresión Logística Multiclase** para predecir el sistema operativo de los usuarios (Windows, Macintosh y Linux).  \n",
    "\n",
    "El modelo alcanzó una **accuracy del 73%**, mostrando buen desempeño general:  \n",
    "- **Windows y Linux** se clasificaron con bastante precisión.  \n",
    "- **Macintosh** resultó más difícil de predecir, con menor recall.  \n",
    "\n",
    "👉 En resumen, la regresión logística fue una herramienta simple y efectiva para esta tarea de clasificación. Con más datos o un ajuste de parámetros, se podría mejorar el rendimiento, especialmente en la clase *Macintosh*.  \n"
   ]
  },
  {
   "cell_type": "code",
   "execution_count": null,
   "id": "1a90ff43-b623-413b-a6a6-5e88187180f8",
   "metadata": {},
   "outputs": [],
   "source": []
  }
 ],
 "metadata": {
  "kernelspec": {
   "display_name": "Python 3 (ipykernel)",
   "language": "python",
   "name": "python3"
  },
  "language_info": {
   "codemirror_mode": {
    "name": "ipython",
    "version": 3
   },
   "file_extension": ".py",
   "mimetype": "text/x-python",
   "name": "python",
   "nbconvert_exporter": "python",
   "pygments_lexer": "ipython3",
   "version": "3.13.5"
  }
 },
 "nbformat": 4,
 "nbformat_minor": 5
}
